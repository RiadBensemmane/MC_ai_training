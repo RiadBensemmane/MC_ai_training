{
 "cells": [
  {
   "cell_type": "code",
   "execution_count": 4,
   "id": "334d949f-1172-45c6-98a6-498e142b2122",
   "metadata": {},
   "outputs": [],
   "source": [
    "import pandas as pd\n",
    "import os\n",
    "import glob\n"
   ]
  },
  {
   "cell_type": "code",
   "execution_count": 19,
   "id": "fdea770f-9d9f-4efe-a885-13e6426b9ccb",
   "metadata": {},
   "outputs": [],
   "source": [
    "\n",
    "joined_files = os.path.join(\"./Sales_Data\", \"*\")\n",
    "joined_list = glob.glob(\"./Sales_Data/*\")\n",
    "df = pd.concat(map(pd.read_csv, joined_list), ignore_index = True)\n",
    "\n",
    "df.to_csv(\"yearly_data.csv\", index=False)"
   ]
  },
  {
   "cell_type": "code",
   "execution_count": 31,
   "id": "fa3308c8-2b65-4b92-9dea-33b52655d817",
   "metadata": {},
   "outputs": [
    {
     "data": {
      "text/html": [
       "<div>\n",
       "<style scoped>\n",
       "    .dataframe tbody tr th:only-of-type {\n",
       "        vertical-align: middle;\n",
       "    }\n",
       "\n",
       "    .dataframe tbody tr th {\n",
       "        vertical-align: top;\n",
       "    }\n",
       "\n",
       "    .dataframe thead th {\n",
       "        text-align: right;\n",
       "    }\n",
       "</style>\n",
       "<table border=\"1\" class=\"dataframe\">\n",
       "  <thead>\n",
       "    <tr style=\"text-align: right;\">\n",
       "      <th></th>\n",
       "      <th>Order ID</th>\n",
       "      <th>Product</th>\n",
       "      <th>Quantity Ordered</th>\n",
       "      <th>Price Each</th>\n",
       "      <th>Order Date</th>\n",
       "      <th>Purchase Address</th>\n",
       "    </tr>\n",
       "  </thead>\n",
       "  <tbody>\n",
       "    <tr>\n",
       "      <th>0</th>\n",
       "      <td>176558</td>\n",
       "      <td>USB-C Charging Cable</td>\n",
       "      <td>2</td>\n",
       "      <td>11.95</td>\n",
       "      <td>04/19/19 08:46</td>\n",
       "      <td>917 1st St, Dallas, TX 75001</td>\n",
       "    </tr>\n",
       "    <tr>\n",
       "      <th>1</th>\n",
       "      <td>NaN</td>\n",
       "      <td>NaN</td>\n",
       "      <td>NaN</td>\n",
       "      <td>NaN</td>\n",
       "      <td>NaN</td>\n",
       "      <td>NaN</td>\n",
       "    </tr>\n",
       "    <tr>\n",
       "      <th>2</th>\n",
       "      <td>176559</td>\n",
       "      <td>Bose SoundSport Headphones</td>\n",
       "      <td>1</td>\n",
       "      <td>99.99</td>\n",
       "      <td>04/07/19 22:30</td>\n",
       "      <td>682 Chestnut St, Boston, MA 02215</td>\n",
       "    </tr>\n",
       "    <tr>\n",
       "      <th>3</th>\n",
       "      <td>176560</td>\n",
       "      <td>Google Phone</td>\n",
       "      <td>1</td>\n",
       "      <td>600</td>\n",
       "      <td>04/12/19 14:38</td>\n",
       "      <td>669 Spruce St, Los Angeles, CA 90001</td>\n",
       "    </tr>\n",
       "    <tr>\n",
       "      <th>4</th>\n",
       "      <td>176560</td>\n",
       "      <td>Wired Headphones</td>\n",
       "      <td>1</td>\n",
       "      <td>11.99</td>\n",
       "      <td>04/12/19 14:38</td>\n",
       "      <td>669 Spruce St, Los Angeles, CA 90001</td>\n",
       "    </tr>\n",
       "  </tbody>\n",
       "</table>\n",
       "</div>"
      ],
      "text/plain": [
       "  Order ID                     Product Quantity Ordered Price Each  \\\n",
       "0   176558        USB-C Charging Cable                2      11.95   \n",
       "1      NaN                         NaN              NaN        NaN   \n",
       "2   176559  Bose SoundSport Headphones                1      99.99   \n",
       "3   176560                Google Phone                1        600   \n",
       "4   176560            Wired Headphones                1      11.99   \n",
       "\n",
       "       Order Date                      Purchase Address  \n",
       "0  04/19/19 08:46          917 1st St, Dallas, TX 75001  \n",
       "1             NaN                                   NaN  \n",
       "2  04/07/19 22:30     682 Chestnut St, Boston, MA 02215  \n",
       "3  04/12/19 14:38  669 Spruce St, Los Angeles, CA 90001  \n",
       "4  04/12/19 14:38  669 Spruce St, Los Angeles, CA 90001  "
      ]
     },
     "execution_count": 31,
     "metadata": {},
     "output_type": "execute_result"
    }
   ],
   "source": [
    "df = pd.read_csv(\"yearly_data.csv\")\n",
    "df.head()"
   ]
  },
  {
   "cell_type": "markdown",
   "id": "f7a122bd-0802-4f21-bea6-153dc410d3ce",
   "metadata": {},
   "source": [
    "#### QUESTION 1 What was the best month ofr sales ? How much was earned that month ?"
   ]
  },
  {
   "cell_type": "code",
   "execution_count": 59,
   "id": "7c4b5f88-d34c-4863-9be6-260f4a89f92e",
   "metadata": {},
   "outputs": [
    {
     "name": "stdout",
     "output_type": "stream",
     "text": [
      "The best month was 12 with gains of over 4613443.34\n"
     ]
    }
   ],
   "source": [
    "df[\"month\"] = df['Order Date'].str[0:2]  #add month column to make it easier\n",
    "\n",
    "df = df.dropna(how = 'all') #dorp nan values\n",
    "df = (df[df['Quantity Ordered'] != 'Quantity Ordered'] )   #clean the data by removing rows which has column names as values\n",
    "\n",
    "df['gains'] = df['Quantity Ordered'].astype('int') * df['Price Each'].astype('float') #add gain column\n",
    "\n",
    "sumdf = df.groupby('month')['gains'].sum()#for each month sum the values of the gains \n",
    "highest_gains = sumdf.max() \n",
    "best_month = sumdf.idxmax()\n",
    "print(f\"The best month was {best_month} with gains of over {highest_gains}\")"
   ]
  },
  {
   "cell_type": "markdown",
   "id": "daf0b951-3f39-44ad-a1c7-666fc0264e35",
   "metadata": {},
   "source": [
    "#### QUESTION 2: What city sold the most products ?"
   ]
  },
  {
   "cell_type": "code",
   "execution_count": 92,
   "id": "6ddd4b4d-3884-4af9-89cb-348b4a7629c1",
   "metadata": {},
   "outputs": [
    {
     "name": "stdout",
     "output_type": "stream",
     "text": [
      "The best city was San Francisco with 50239 products sold\n"
     ]
    }
   ],
   "source": [
    "\n",
    "df['city'] = df['Purchase Address'].str.split(', ', expand=True)[1] #na9asmou l'adresse to get the city li rahi fel west\n",
    "df['Quantity Ordered'] = pd.to_numeric(df['Quantity Ordered'] )\n",
    "prod_sum = df.groupby('city')['Quantity Ordered'].sum() #for eeach city ndirou lea somme \n",
    "                                                        #ta3 quantity li ba3etha for each product bash nel9aw quantite totale\n",
    "highest_products = prod_sum.max()\n",
    "best_city = prod_sum.idxmax()\n",
    "print(f\"The best city was {best_city} with {highest_products} products sold\")"
   ]
  },
  {
   "cell_type": "markdown",
   "id": "3c66349a-7e10-4a23-a843-46d4df4888ec",
   "metadata": {},
   "source": [
    "#### QUESTION 3: At what time should we display adevertisements ?"
   ]
  },
  {
   "cell_type": "code",
   "execution_count": 94,
   "id": "f38e6e6f-b2fa-4bfa-8fcc-418e8cfe8d1b",
   "metadata": {},
   "outputs": [
    {
     "name": "stderr",
     "output_type": "stream",
     "text": [
      "C:\\Users\\Riad\\AppData\\Local\\Temp\\ipykernel_17500\\3072535395.py:1: UserWarning: Could not infer format, so each element will be parsed individually, falling back to `dateutil`. To ensure parsing is consistent and as-expected, please specify a format.\n",
      "  df['Order Date'] = pd.to_datetime(df['Order Date'])\n"
     ]
    }
   ],
   "source": [
    "df['Order Date'] = pd.to_datetime(df['Order Date'])"
   ]
  },
  {
   "cell_type": "code",
   "execution_count": 141,
   "id": "acda00bf-1963-41ca-9fee-dad65e9e1cd9",
   "metadata": {},
   "outputs": [
    {
     "name": "stdout",
     "output_type": "stream",
     "text": [
      "The best hour to advertise is around 19 because 12905 sells happened at that time\n"
     ]
    }
   ],
   "source": [
    "df['hour'] = df['Order Date'].dt.hour\n",
    "hour_counts = df['hour'].value_counts()\n",
    "best_hour = hour_counts.idxmax()\n",
    "best_hour_count = hour_counts.max()\n",
    "print(f\"The best hour to advertise is around {best_hour} because {best_hour_count} sells happened at that time\")"
   ]
  },
  {
   "cell_type": "markdown",
   "id": "7743e5ae-46fd-47a6-bd43-d66c0e5a339d",
   "metadata": {},
   "source": [
    "#### QUESTION 4: What products are most often sold together?"
   ]
  },
  {
   "cell_type": "code",
   "execution_count": 133,
   "id": "3c37c0b2-3aa4-4280-b30b-b970557d16d8",
   "metadata": {},
   "outputs": [
    {
     "name": "stdout",
     "output_type": "stream",
     "text": [
      "the items that are sold together the most are: \n"
     ]
    },
    {
     "data": {
      "text/plain": [
       "Product\n",
       "[iPhone, Lightning Charging Cable]                    654\n",
       "[Google Phone, USB-C Charging Cable]                  615\n",
       "[AAA Batteries (4-pack), Lightning Charging Cable]    378\n",
       "[AAA Batteries (4-pack), AA Batteries (4-pack)]       368\n",
       "[AA Batteries (4-pack), AAA Batteries (4-pack)]       367\n",
       "[AA Batteries (4-pack), Lightning Charging Cable]     360\n",
       "[AAA Batteries (4-pack), USB-C Charging Cable]        355\n",
       "[AA Batteries (4-pack), USB-C Charging Cable]         349\n",
       "[USB-C Charging Cable, AAA Batteries (4-pack)]        349\n",
       "[USB-C Charging Cable, USB-C Charging Cable]          344\n",
       "Name: count, dtype: int64"
      ]
     },
     "execution_count": 133,
     "metadata": {},
     "output_type": "execute_result"
    }
   ],
   "source": [
    "sold_together = df.groupby('Order Date')['Product'].agg(list)\n",
    "filtered_df = sold_together[sold_together.apply(len) > 1]\n",
    "most_sold_together = filtered_df.value_counts().head(10)\n",
    "print(f\"the items that are sold together the most are: \")\n",
    "most_sold_together\n",
    "# df.groupby('Order Date')\n",
    "# df.head(50)"
   ]
  },
  {
   "cell_type": "markdown",
   "id": "fd1ec75b-1e01-4e38-ba86-1dbf51b51788",
   "metadata": {},
   "source": [
    "#### QUESTION 5: What product sold the most and why ?"
   ]
  },
  {
   "cell_type": "code",
   "execution_count": 146,
   "id": "a8ac2081-39e3-4c76-9aa2-7dfc25df258f",
   "metadata": {},
   "outputs": [
    {
     "name": "stdout",
     "output_type": "stream",
     "text": [
      "The product that was sold the most is AAA Batteries (4-pack) which was sold 31017 times\n"
     ]
    }
   ],
   "source": [
    "product_counts = df.groupby('Product')['Quantity Ordered'].sum()\n",
    "product_counts\n",
    "most_sold = product_counts.idxmax()\n",
    "amount = product_counts.max()\n",
    "print(f\"The product that was sold the most is {most_sold} which was sold {amount} times because they are cheap and are needed alot\")\n",
    "# df[df['Product'] == most_sold].value_counts()"
   ]
  },
  {
   "cell_type": "code",
   "execution_count": null,
   "id": "a4d7a103-36af-40a2-b42e-72cb8b906b7c",
   "metadata": {},
   "outputs": [],
   "source": []
  }
 ],
 "metadata": {
  "kernelspec": {
   "display_name": "Python 3 (ipykernel)",
   "language": "python",
   "name": "python3"
  },
  "language_info": {
   "codemirror_mode": {
    "name": "ipython",
    "version": 3
   },
   "file_extension": ".py",
   "mimetype": "text/x-python",
   "name": "python",
   "nbconvert_exporter": "python",
   "pygments_lexer": "ipython3",
   "version": "3.10.12"
  }
 },
 "nbformat": 4,
 "nbformat_minor": 5
}
